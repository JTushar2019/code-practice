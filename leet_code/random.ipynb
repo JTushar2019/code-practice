{
 "cells": [
  {
   "cell_type": "code",
   "execution_count": 11,
   "source": [
    "(2**n - 2)**(2**(n-1)-1) % (10**9 + 7)"
   ],
   "outputs": [
    {
     "output_type": "execute_result",
     "data": {
      "text/plain": [
       "651703101"
      ]
     },
     "metadata": {},
     "execution_count": 11
    }
   ],
   "metadata": {}
  },
  {
   "cell_type": "code",
   "execution_count": 12,
   "source": [
    "def foo(num, power, modulator):\r\n",
    "    if power == 1:\r\n",
    "        return num\r\n",
    "    prod = 1\r\n",
    "    if power % 2 == 1:\r\n",
    "        prod = num\r\n",
    "        power -= 1\r\n",
    "    prod = ((((foo(num, power//2, modulator))**2) %\r\n",
    "            modulator) * prod) % modulator\r\n",
    "    return prod\r\n"
   ],
   "outputs": [],
   "metadata": {}
  },
  {
   "cell_type": "code",
   "execution_count": 17,
   "source": [
    "n = 5\r\n",
    "modulator = 10**9 + 7\r\n",
    "# modulator = 10**2 + 7\r\n",
    "p = (2**n - 2)**(2**(n-1)-1) * (2**n-1)\r\n",
    "p % (10**9 + 7)"
   ],
   "outputs": [
    {
     "output_type": "execute_result",
     "data": {
      "text/plain": [
       "202795991"
      ]
     },
     "metadata": {},
     "execution_count": 17
    }
   ],
   "metadata": {}
  },
  {
   "cell_type": "code",
   "execution_count": 22,
   "source": [
    "n = 60\r\n",
    "numer = ((1 << n) - 2) % modulator\r\n",
    "power = (1 << (n-1)) - 1\r\n",
    "t = foo(numer, power, modulator)\r\n",
    "t = (t * ((1 << n) - 1) % modulator) % modulator\r\n",
    "print(t)\r\n"
   ],
   "outputs": [
    {
     "output_type": "stream",
     "name": "stdout",
     "text": [
      "70421960\n",
      "813987236\n"
     ]
    }
   ],
   "metadata": {}
  },
  {
   "cell_type": "code",
   "execution_count": 13,
   "source": [
    "t = foo(4646468156 %modulator, (4686), modulator)\r\n",
    "p = (4646468156**4686) % modulator\r\n",
    "print(t == p)\r\n",
    "print(t)\r\n",
    "print(p)\r\n"
   ],
   "outputs": [
    {
     "output_type": "stream",
     "name": "stdout",
     "text": [
      "True\n",
      "70758220\n",
      "70758220\n"
     ]
    }
   ],
   "metadata": {}
  },
  {
   "cell_type": "code",
   "execution_count": null,
   "source": [],
   "outputs": [],
   "metadata": {}
  }
 ],
 "metadata": {
  "orig_nbformat": 4,
  "language_info": {
   "name": "python",
   "version": "3.9.6",
   "mimetype": "text/x-python",
   "codemirror_mode": {
    "name": "ipython",
    "version": 3
   },
   "pygments_lexer": "ipython3",
   "nbconvert_exporter": "python",
   "file_extension": ".py"
  },
  "kernelspec": {
   "name": "python3",
   "display_name": "Python 3.9.6 64-bit"
  },
  "interpreter": {
   "hash": "e6db4fc52036adf2b7ce66f03f84134e1a433f29ba292ea8be867d9a999cdb23"
  }
 },
 "nbformat": 4,
 "nbformat_minor": 2
}